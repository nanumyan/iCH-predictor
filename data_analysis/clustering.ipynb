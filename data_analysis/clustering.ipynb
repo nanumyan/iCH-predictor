{
 "metadata": {
  "name": "",
  "signature": "sha256:0f264a39f7c481c541fbf3f585f1f8e01cad457ee0d3413188021b5d1eb880a8"
 },
 "nbformat": 3,
 "nbformat_minor": 0,
 "worksheets": [
  {
   "cells": [
    {
     "cell_type": "code",
     "collapsed": false,
     "input": [
      "import json\n",
      "import os\n",
      "import pprint\n",
      "for filename in os.listdir('jsons'):\n",
      "    print filename"
     ],
     "language": "python",
     "metadata": {},
     "outputs": [
      {
       "output_type": "stream",
       "stream": "stdout",
       "text": [
        "preys.json\n",
        "trendboxed.json\n",
        "users.json\n",
        "votes.json\n"
       ]
      }
     ],
     "prompt_number": 1
    },
    {
     "cell_type": "code",
     "collapsed": false,
     "input": [
      "dead_preys = np.loadtxt('processError.log')"
     ],
     "language": "python",
     "metadata": {},
     "outputs": [],
     "prompt_number": 2
    },
    {
     "cell_type": "code",
     "collapsed": false,
     "input": [
      "preys = json.load(open('jsons/preys.json','r'))\n",
      "print 'n preys:', len(preys)\n",
      "\n",
      "feeds = []\n",
      "\n",
      "for prey in preys:\n",
      "    if prey['descr'] and prey['tags'] and prey['link']:\n",
      "        feeds.append(prey)\n",
      "        \n",
      "print len(feeds)"
     ],
     "language": "python",
     "metadata": {},
     "outputs": [
      {
       "output_type": "stream",
       "stream": "stdout",
       "text": [
        "n preys: 108535\n",
        "7639"
       ]
      },
      {
       "output_type": "stream",
       "stream": "stdout",
       "text": [
        "\n"
       ]
      }
     ],
     "prompt_number": 3
    },
    {
     "cell_type": "code",
     "collapsed": false,
     "input": [
      "feeds[0]"
     ],
     "language": "python",
     "metadata": {},
     "outputs": [
      {
       "metadata": {},
       "output_type": "pyout",
       "prompt_number": 4,
       "text": [
        "{u'descr': u'Rethinking Vintage: Are the 80\\u2032s and 90\\u2032s fashion vintage?',\n",
        " u'hunterid': 22523,\n",
        " u'id': 128282,\n",
        " u'lat': None,\n",
        " u'link': u'http://www.wendybendoni.com/rethinking-vintage-80s-90s-fashion-vintage/',\n",
        " u'lng': None,\n",
        " u'platform': u'web',\n",
        " u'tags': [u'fashion', u'vintage', u'80s', u'90s']}"
       ]
      }
     ],
     "prompt_number": 4
    },
    {
     "cell_type": "code",
     "collapsed": false,
     "input": [
      "for i, feed in enumerate(feeds):\n",
      "    if feed['id'] in dead_preys:\n",
      "        del feeds[i]\n",
      "print len(feeds)\n",
      "prey_names = [feed['id'] for feed in feeds]"
     ],
     "language": "python",
     "metadata": {},
     "outputs": [
      {
       "output_type": "stream",
       "stream": "stdout",
       "text": [
        "7631\n"
       ]
      }
     ],
     "prompt_number": 5
    },
    {
     "cell_type": "code",
     "collapsed": false,
     "input": [
      "from itertools import permutations\n",
      "from collections import Counter\n",
      "\n",
      "tag_groups = [[tag.lower() for tag in feed['tags'] ] for feed in feeds]\n",
      "\n",
      "tags = [item for sublist in tag_groups for item in sublist]\n",
      "\n",
      "tags_set = []\n",
      "for tag in tags:\n",
      "    if tag not in tags_set:\n",
      "        tags_set.append(tag)"
     ],
     "language": "python",
     "metadata": {},
     "outputs": [],
     "prompt_number": 6
    },
    {
     "cell_type": "code",
     "collapsed": false,
     "input": [
      "tag_map = { tag:n for n, tag in enumerate(tags_set)}\n",
      "tag_map_inv = {v:k for k, v in tag_map.items()}\n",
      "\n",
      "tag_num = len(tag_map)"
     ],
     "language": "python",
     "metadata": {},
     "outputs": [],
     "prompt_number": 7
    },
    {
     "cell_type": "code",
     "collapsed": false,
     "input": [
      "tag_groups_mapped = map(lambda gr: [tag_map[t] for t in gr], tag_groups)"
     ],
     "language": "python",
     "metadata": {},
     "outputs": [],
     "prompt_number": 8
    },
    {
     "cell_type": "code",
     "collapsed": false,
     "input": [
      "tag_groups_mapped[:10]"
     ],
     "language": "python",
     "metadata": {},
     "outputs": [
      {
       "metadata": {},
       "output_type": "pyout",
       "prompt_number": 9,
       "text": [
        "[[0, 1, 2, 3],\n",
        " [4, 5],\n",
        " [6, 7, 8, 9],\n",
        " [10, 11, 12],\n",
        " [13, 14],\n",
        " [15, 16, 17],\n",
        " [18, 19, 0, 20],\n",
        " [8, 21],\n",
        " [22, 23, 24],\n",
        " [25, 26]]"
       ]
      }
     ],
     "prompt_number": 9
    },
    {
     "cell_type": "code",
     "collapsed": false,
     "input": [
      "from scipy.sparse import *\n",
      "\n",
      "S = dok_matrix((len(prey_names),tag_num), dtype=int)\n",
      "for i, row in enumerate(tag_groups_mapped):\n",
      "    for j in row:\n",
      "        S[i,j] = 1\n",
      "\n",
      "tag_occurences = S.tocoo()"
     ],
     "language": "python",
     "metadata": {},
     "outputs": [],
     "prompt_number": 10
    },
    {
     "cell_type": "code",
     "collapsed": false,
     "input": [
      "tag_occurences.toarray()[:10, :10]"
     ],
     "language": "python",
     "metadata": {},
     "outputs": [
      {
       "metadata": {},
       "output_type": "pyout",
       "prompt_number": 11,
       "text": [
        "array([[1, 1, 1, 1, 0, 0, 0, 0, 0, 0],\n",
        "       [0, 0, 0, 0, 1, 1, 0, 0, 0, 0],\n",
        "       [0, 0, 0, 0, 0, 0, 1, 1, 1, 1],\n",
        "       [0, 0, 0, 0, 0, 0, 0, 0, 0, 0],\n",
        "       [0, 0, 0, 0, 0, 0, 0, 0, 0, 0],\n",
        "       [0, 0, 0, 0, 0, 0, 0, 0, 0, 0],\n",
        "       [1, 0, 0, 0, 0, 0, 0, 0, 0, 0],\n",
        "       [0, 0, 0, 0, 0, 0, 0, 0, 1, 0],\n",
        "       [0, 0, 0, 0, 0, 0, 0, 0, 0, 0],\n",
        "       [0, 0, 0, 0, 0, 0, 0, 0, 0, 0]])"
       ]
      }
     ],
     "prompt_number": 11
    },
    {
     "cell_type": "code",
     "collapsed": false,
     "input": [
      "from sklearn.feature_extraction.text import TfidfTransformer"
     ],
     "language": "python",
     "metadata": {},
     "outputs": [],
     "prompt_number": 12
    },
    {
     "cell_type": "code",
     "collapsed": false,
     "input": [
      "transformer = TfidfTransformer()\n",
      "tfidf = transformer.fit_transform(tag_occurences)"
     ],
     "language": "python",
     "metadata": {},
     "outputs": [],
     "prompt_number": 13
    },
    {
     "cell_type": "code",
     "collapsed": false,
     "input": [
      "tfidf.todense()[:10,:10]"
     ],
     "language": "python",
     "metadata": {},
     "outputs": [
      {
       "metadata": {},
       "output_type": "pyout",
       "prompt_number": 14,
       "text": [
        "matrix([[ 0.23083854,  0.39300422,  0.60775716,  0.65030184,  0.        ,\n",
        "          0.        ,  0.        ,  0.        ,  0.        ,  0.        ],\n",
        "        [ 0.        ,  0.        ,  0.        ,  0.        ,  0.7341228 ,\n",
        "          0.67901673,  0.        ,  0.        ,  0.        ,  0.        ],\n",
        "        [ 0.        ,  0.        ,  0.        ,  0.        ,  0.        ,\n",
        "          0.        ,  0.63284324,  0.49214101,  0.27866788,  0.52882027],\n",
        "        [ 0.        ,  0.        ,  0.        ,  0.        ,  0.        ,\n",
        "          0.        ,  0.        ,  0.        ,  0.        ,  0.        ],\n",
        "        [ 0.        ,  0.        ,  0.        ,  0.        ,  0.        ,\n",
        "          0.        ,  0.        ,  0.        ,  0.        ,  0.        ],\n",
        "        [ 0.        ,  0.        ,  0.        ,  0.        ,  0.        ,\n",
        "          0.        ,  0.        ,  0.        ,  0.        ,  0.        ],\n",
        "        [ 0.26044226,  0.        ,  0.        ,  0.        ,  0.        ,\n",
        "          0.        ,  0.        ,  0.        ,  0.        ,  0.        ],\n",
        "        [ 0.        ,  0.        ,  0.        ,  0.        ,  0.        ,\n",
        "          0.        ,  0.        ,  0.        ,  0.34682502,  0.        ],\n",
        "        [ 0.        ,  0.        ,  0.        ,  0.        ,  0.        ,\n",
        "          0.        ,  0.        ,  0.        ,  0.        ,  0.        ],\n",
        "        [ 0.        ,  0.        ,  0.        ,  0.        ,  0.        ,\n",
        "          0.        ,  0.        ,  0.        ,  0.        ,  0.        ]])"
       ]
      }
     ],
     "prompt_number": 14
    },
    {
     "cell_type": "markdown",
     "metadata": {},
     "source": [
      "# Load and process Colors : RGB"
     ]
    },
    {
     "cell_type": "code",
     "collapsed": false,
     "input": [
      "import pandas as pd\n",
      "RGBcolors = pd.read_table('out/RGBcolors.txt', header=None)\n",
      "#RGBcolors.index.name = 'prey_id'"
     ],
     "language": "python",
     "metadata": {},
     "outputs": [],
     "prompt_number": 15
    },
    {
     "cell_type": "code",
     "collapsed": false,
     "input": [
      "def toHEX(x):\n",
      "    return np.append(x[0], [int('%02x%02x%02x'%tuple(x[i:i+3]), 16) for i in range(1, len(x), 3)])"
     ],
     "language": "python",
     "metadata": {},
     "outputs": [],
     "prompt_number": 16
    },
    {
     "cell_type": "code",
     "collapsed": false,
     "input": [
      "aRGBcolors = RGBcolors.values\n",
      "# RGBcolors.apply(toHEX, axis=1)"
     ],
     "language": "python",
     "metadata": {},
     "outputs": [],
     "prompt_number": 17
    },
    {
     "cell_type": "code",
     "collapsed": false,
     "input": [
      "HEXcolors = pd.DataFrame(np.apply_along_axis(toHEX, 1, aRGBcolors))"
     ],
     "language": "python",
     "metadata": {},
     "outputs": [],
     "prompt_number": 18
    },
    {
     "cell_type": "code",
     "collapsed": false,
     "input": [
      "HEXcolors = HEXcolors.set_index(0)\n",
      "HEXcolors.index.name = 'prey_id'"
     ],
     "language": "python",
     "metadata": {},
     "outputs": [],
     "prompt_number": 19
    },
    {
     "cell_type": "code",
     "collapsed": false,
     "input": [
      "preys_colors = HEXcolors.index.values"
     ],
     "language": "python",
     "metadata": {},
     "outputs": [],
     "prompt_number": 20
    },
    {
     "cell_type": "code",
     "collapsed": false,
     "input": [
      "# # important to check\n",
      "# if np.array_equiv(array(prey_names), preys_colors):\n",
      "#     features = hstack([tfidf, csr_matrix(HEXcolors.values)])"
     ],
     "language": "python",
     "metadata": {},
     "outputs": [],
     "prompt_number": 21
    },
    {
     "cell_type": "markdown",
     "metadata": {},
     "source": [
      "# Load and process Colors : HSL"
     ]
    },
    {
     "cell_type": "code",
     "collapsed": false,
     "input": [
      "HSLcolors = np.loadtxt('out/HSLcolors.txt')"
     ],
     "language": "python",
     "metadata": {},
     "outputs": [],
     "prompt_number": 22
    },
    {
     "cell_type": "markdown",
     "metadata": {},
     "source": [
      "# Featurize colors"
     ]
    },
    {
     "cell_type": "code",
     "collapsed": false,
     "input": [
      "hues = HSLcolors[:, [1,4,7]]//30\n",
      "hues = hues.astype(int)\n",
      "num_hues = len(np.unique(hues))\n",
      "    \n",
      "S = dok_matrix( (len(prey_names), 3*num_hues), dtype=int )\n",
      "for i, row in enumerate(hues):\n",
      "    for j, h in enumerate(row):\n",
      "        S[i,num_hues*j+h] = 1\n",
      "\n",
      "color_features = S.tocsr()"
     ],
     "language": "python",
     "metadata": {},
     "outputs": [],
     "prompt_number": 23
    },
    {
     "cell_type": "code",
     "collapsed": false,
     "input": [
      "color_features[0].todense()"
     ],
     "language": "python",
     "metadata": {},
     "outputs": [
      {
       "metadata": {},
       "output_type": "pyout",
       "prompt_number": 24,
       "text": [
        "matrix([[0, 0, 0, 0, 0, 0, 0, 1, 0, 0, 0, 0, 0, 0, 1, 0, 0, 0, 0, 0, 0, 0,\n",
        "         0, 0, 0, 1, 0, 0, 0, 0, 0, 0, 0, 0, 0, 0]])"
       ]
      }
     ],
     "prompt_number": 24
    },
    {
     "cell_type": "code",
     "collapsed": false,
     "input": [
      "# important to check\n",
      "if np.array_equiv(array(prey_names), HSLcolors[:,0]):\n",
      "    print 'OK'\n",
      "    features = hstack([tfidf, color_features])"
     ],
     "language": "python",
     "metadata": {},
     "outputs": [
      {
       "output_type": "stream",
       "stream": "stdout",
       "text": [
        "OK\n"
       ]
      }
     ],
     "prompt_number": 27
    },
    {
     "cell_type": "code",
     "collapsed": false,
     "input": [
      "features.tocsr()[0].toarray()[0, -36:].sum()"
     ],
     "language": "python",
     "metadata": {},
     "outputs": [
      {
       "metadata": {},
       "output_type": "pyout",
       "prompt_number": 28,
       "text": [
        "3.0"
       ]
      }
     ],
     "prompt_number": 28
    },
    {
     "cell_type": "markdown",
     "metadata": {},
     "source": [
      "# CLUSTERING!!"
     ]
    },
    {
     "cell_type": "code",
     "collapsed": false,
     "input": [
      "from sklearn.cluster import KMeans"
     ],
     "language": "python",
     "metadata": {},
     "outputs": [],
     "prompt_number": 56
    },
    {
     "cell_type": "code",
     "collapsed": false,
     "input": [
      "from sklearn.metrics.pairwise import euclidean_distances"
     ],
     "language": "python",
     "metadata": {},
     "outputs": [],
     "prompt_number": 57
    },
    {
     "cell_type": "code",
     "collapsed": false,
     "input": [
      "n_clusters=10"
     ],
     "language": "python",
     "metadata": {},
     "outputs": [],
     "prompt_number": 58
    },
    {
     "cell_type": "code",
     "collapsed": false,
     "input": [
      "kmeans = KMeans(n_clusters=n_clusters, n_jobs=3)"
     ],
     "language": "python",
     "metadata": {},
     "outputs": [],
     "prompt_number": 59
    },
    {
     "cell_type": "code",
     "collapsed": false,
     "input": [
      "kmeans.fit(features)\n",
      "\n",
      "k_means_labels = kmeans.labels_\n",
      "k_means_cluster_centers = kmeans.cluster_centers_\n",
      "k_means_labels_unique = np.unique(k_means_labels)"
     ],
     "language": "python",
     "metadata": {},
     "outputs": [],
     "prompt_number": 60
    },
    {
     "cell_type": "code",
     "collapsed": false,
     "input": [
      "tag_map[u'blue']"
     ],
     "language": "python",
     "metadata": {},
     "outputs": [
      {
       "metadata": {},
       "output_type": "pyout",
       "prompt_number": 61,
       "text": [
        "147"
       ]
      }
     ],
     "prompt_number": 61
    },
    {
     "cell_type": "code",
     "collapsed": false,
     "input": [
      "from mpl_toolkits.mplot3d import Axes3D"
     ],
     "language": "python",
     "metadata": {},
     "outputs": [],
     "prompt_number": 29
    },
    {
     "cell_type": "code",
     "collapsed": false,
     "input": [
      "# fig = plt.figure(figsize=(6, 6))\n",
      "# fig.subplots_adjust(left=0.02, right=0.98, bottom=0.05, top=0.9)\n",
      "# colors = ['#348ABD', '#7A68A6', '#A60628', '#467821', '#CF4457', '#188487', '#E24A33', '#00FF3C']\n",
      "\n",
      "# distance = euclidean_distances(k_means_cluster_centers,\n",
      "#                                squared=True)\n",
      "# order = distance.argmin(axis=1)\n",
      "\n",
      "# # KMeans\n",
      "# ax = fig.add_subplot(1, 1, 1)\n",
      "# for k, col in zip(range(n_clusters), colors[:n_clusters]):\n",
      "#     my_members = k_means_labels == k\n",
      "#     cluster_center = k_means_cluster_centers[k]\n",
      "    \n",
      "#     ax.plot(features.toarray()[my_members, -2],features.toarray()[my_members, -1], '.', c=col, alpha=.5)\n",
      "\n",
      "# for k, col in zip(range(n_clusters), colors[:n_clusters]):\n",
      "#     my_members = k_means_labels == k\n",
      "#     cluster_center = k_means_cluster_centers[k]\n",
      "#     ax.plot(cluster_center[-2], cluster_center[-1], 'o', markerfacecolor=col,\n",
      "#         markeredgecolor='k', markersize=10)\n",
      "\n",
      "# ax.set_title('KMeans')\n",
      "# ax.set_ylim((0,360))\n",
      "# ax.set_xlim((0,360))\n",
      "# fig.show()\n",
      "# # ax.set_xticks(())\n",
      "# # ax.set_yticks(())\n",
      "# # ax.set_xscale('log')\n",
      "# # ax.set_yscale('log')"
     ],
     "language": "python",
     "metadata": {},
     "outputs": [],
     "prompt_number": 140
    },
    {
     "cell_type": "markdown",
     "metadata": {},
     "source": [
      "# PCA"
     ]
    },
    {
     "cell_type": "code",
     "collapsed": false,
     "input": [
      "from sklearn."
     ],
     "language": "python",
     "metadata": {},
     "outputs": []
    },
    {
     "cell_type": "markdown",
     "metadata": {},
     "source": [
      "# NMF"
     ]
    },
    {
     "cell_type": "code",
     "collapsed": false,
     "input": [
      "from sklearn.decomposition import NMF"
     ],
     "language": "python",
     "metadata": {},
     "outputs": [],
     "prompt_number": 56
    },
    {
     "cell_type": "code",
     "collapsed": false,
     "input": [
      "n_topics = 48\n",
      "nmf = NMF(n_components=n_topics, max_iter=200, nls_max_iter=500)\n",
      "nmf_fit = nmf.fit(features)"
     ],
     "language": "python",
     "metadata": {},
     "outputs": [
      {
       "output_type": "stream",
       "stream": "stderr",
       "text": [
        "/home/vahan/bigdive_env/lib/python2.7/site-packages/sklearn/decomposition/nmf.py:254: UserWarning: Iteration limit reached in nls subproblem.\n",
        "  warnings.warn(\"Iteration limit reached in nls subproblem.\")\n"
       ]
      }
     ],
     "prompt_number": 60
    },
    {
     "cell_type": "code",
     "collapsed": false,
     "input": [
      "W = nmf_fit.transform(features)"
     ],
     "language": "python",
     "metadata": {},
     "outputs": [],
     "prompt_number": 172
    },
    {
     "cell_type": "code",
     "collapsed": false,
     "input": [
      "n_top_words = 10\n",
      "for topic_idx, topic in enumerate(nmf_fit.components_):\n",
      "    print(\"Cluster #%d:\" % topic_idx)\n",
      "    top_tags = \" \".join([ tag_map_inv[i] for i in topic[:-36].argsort()[:-n_top_words - 1:-1] ]) +'\\n'\n",
      "    top_tags_nmf = 'best:\\t' + \" \".join([ '%.4f'%nmf_fit.components_[topic_idx, i] for i in topic.argsort()[:-n_top_words - 1:-1] ]) +'\\n'\n",
      "    topic_col1 = 'col 1:\\t'  + ', '.join(['%.4f'%hue  for hue in nmf_fit.components_[topic_idx, -36:-24]]) +'\\n'\n",
      "    topic_col2 = 'col 2:\\t'  + ', '.join(['%.4f'%hue  for hue in nmf_fit.components_[topic_idx, -24:-12]]) +'\\n'\n",
      "    topic_col3 = 'col 3:\\t'  + ', '.join(['%.4f'%hue  for hue in nmf_fit.components_[topic_idx, -12:]]) +'\\n'\n",
      "    print top_tags + top_tags_nmf + topic_col1 + topic_col2 + topic_col3"
     ],
     "language": "python",
     "metadata": {},
     "outputs": [
      {
       "output_type": "stream",
       "stream": "stdout",
       "text": [
        "Cluster #0:\n",
        "tattoo typography bag hat red urban ring face color makeup\n",
        "best:\t9.4335 0.0489 0.0414 0.0270 0.0263 0.0245 0.0241 0.0235 0.0220 0.0219\n",
        "col 1:\t0.0000, 0.0000, 0.0000, 0.0000, 0.0000, 0.0000, 0.0000, 0.0000, 0.0000, 0.0000, 0.0000, 0.0000\n",
        "col 2:\t9.4335, 0.0000, 0.0000, 0.0000, 0.0000, 0.0000, 0.0000, 0.0000, 0.0000, 0.0000, 0.0000, 0.0000\n",
        "col 3:\t0.0000, 0.0000, 0.0000, 0.0000, 0.0000, 0.0000, 0.0000, 0.0000, 0.0000, 0.0000, 0.0000, 0.0000\n",
        "\n",
        "Cluster #1:\n",
        "etsy gold wood book white vase vintage black golden porcelain\n",
        "best:\t7.2672 0.0864 0.0577 0.0424 0.0420 0.0399 0.0220 0.0203 0.0199 0.0194\n",
        "col 1:\t0.0000, 7.2672, 0.0000, 0.0000, 0.0000, 0.0000, 0.0000, 0.0000, 0.0000, 0.0000, 0.0000, 0.0000\n",
        "col 2:\t0.0000, 0.0000, 0.0000, 0.0000, 0.0000, 0.0000, 0.0000, 0.0000, 0.0000, 0.0000, 0.0000, 0.0000\n",
        "col 3:\t0.0000, 0.0000, 0.0000, 0.0000, 0.0000, 0.0000, 0.0000, 0.0000, 0.0000, 0.0000, 0.0000, 0.0000\n",
        "\n",
        "Cluster #2:\n",
        "white etsy tattoo asian clock music silver newyork red wood\n",
        "best:\t6.8175 0.0378 0.0293 0.0209 0.0195 0.0189 0.0183 0.0180 0.0178 0.0172\n",
        "col 1:\t0.0000, 0.0000, 0.0000, 0.0000, 0.0000, 0.0000, 0.0000, 0.0000, 0.0000, 0.0000, 0.0000, 0.0000\n",
        "col 2:\t0.0000, 0.0000, 0.0000, 0.0000, 0.0000, 0.0000, 0.0000, 0.0000, 0.0000, 0.0000, 0.0000, 0.0000\n",
        "col 3:\t6.8175, 0.0000, 0.0000, 0.0000, 0.0000, 0.0000, 0.0000, 0.0000, 0.0000, 0.0000, 0.0000, 0.0000\n",
        "\n",
        "Cluster #3:\n",
        "etsy dress vintage red white black color tech book model\n",
        "best:\t6.7443 0.0523 0.0414 0.0299 0.0278 0.0259 0.0228 0.0220 0.0189 0.0187\n",
        "col 1:\t6.7443, 0.0000, 0.0000, 0.0000, 0.0000, 0.0000, 0.0000, 0.0000, 0.0000, 0.0000, 0.0000, 0.0000\n",
        "col 2:\t0.0000, 0.0000, 0.0000, 0.0000, 0.0000, 0.0000, 0.0000, 0.0000, 0.0000, 0.0000, 0.0000, 0.0000\n",
        "col 3:\t0.0000, 0.0000, 0.0000, 0.0000, 0.0000, 0.0000, 0.0000, 0.0000, 0.0000, 0.0000, 0.0000, 0.0000\n",
        "\n",
        "Cluster #4:\n",
        "blue color maaji colombia beauty men building linacantillo landscape future\n",
        "best:\t7.2571 0.1129 0.0710 0.0612 0.0609 0.0423 0.0392 0.0369 0.0342 0.0339\n",
        "col 1:\t0.0000, 0.0000, 0.0000, 0.0000, 0.0000, 0.0000, 0.0000, 0.0000, 0.0000, 0.0000, 0.0000, 0.0000\n",
        "col 2:\t0.0000, 0.0000, 0.0000, 0.0000, 0.0000, 0.0000, 0.0000, 7.2571, 0.0000, 0.0000, 0.0000, 0.0000\n",
        "col 3:\t0.0000, 0.0000, 0.0000, 0.0000, 0.0000, 0.0000, 0.0000, 0.0000, 0.0000, 0.0000, 0.0000, 0.0000\n"
       ]
      },
      {
       "output_type": "stream",
       "stream": "stdout",
       "text": [
        "\n",
        "Cluster #5:\n",
        "gold white vintage yellow skull bag jewelry paris book hat\n",
        "best:\t9.5465 0.0787 0.0406 0.0383 0.0333 0.0331 0.0290 0.0258 0.0248 0.0226\n",
        "col 1:\t0.0000, 0.0000, 0.0000, 0.0000, 0.0000, 0.0000, 0.0000, 0.0000, 0.0000, 0.0000, 0.0000, 0.0000\n",
        "col 2:\t0.0000, 9.5465, 0.0000, 0.0000, 0.0000, 0.0000, 0.0000, 0.0000, 0.0000, 0.0000, 0.0000, 0.0000\n",
        "col 3:\t0.0000, 0.0000, 0.0000, 0.0000, 0.0000, 0.0000, 0.0000, 0.0000, 0.0000, 0.0000, 0.0000, 0.0000\n",
        "\n",
        "Cluster #6:\n",
        "green garden cosplay books fairtrade nike white paper science chair\n",
        "best:\t5.8208 0.0454 0.0366 0.0299 0.0243 0.0242 0.0228 0.0222 0.0220 0.0217\n",
        "col 1:\t0.0000, 0.0000, 0.0000, 0.0000, 0.0000, 0.0000, 0.0000, 0.0000, 0.0000, 0.0000, 0.0000, 0.0000\n",
        "col 2:\t0.0000, 0.0000, 5.8208, 0.0000, 0.0000, 0.0000, 0.0000, 0.0000, 0.0000, 0.0000, 0.0000, 0.0000\n",
        "col 3:\t0.0000, 0.0000, 0.0000, 0.0000, 0.0000, 0.0000, 0.0000, 0.0000, 0.0000, 0.0000, 0.0000, 0.0000\n"
       ]
      },
      {
       "output_type": "stream",
       "stream": "stdout",
       "text": [
        "\n",
        "Cluster #7:\n",
        "beauty green garden white etsy plants vintage chanel bike indoor\n",
        "best:\t6.7385 0.0515 0.0489 0.0459 0.0435 0.0371 0.0369 0.0323 0.0308 0.0300\n",
        "col 1:\t0.0000, 0.0000, 6.7385, 0.0000, 0.0000, 0.0000, 0.0000, 0.0000, 0.0000, 0.0000, 0.0000, 0.0000\n",
        "col 2:\t0.0000, 0.0000, 0.0000, 0.0000, 0.0000, 0.0000, 0.0000, 0.0000, 0.0000, 0.0000, 0.0000, 0.0000\n",
        "col 3:\t0.0000, 0.0000, 0.0000, 0.0000, 0.0000, 0.0000, 0.0000, 0.0000, 0.0000, 0.0000, 0.0000, 0.0000\n",
        "\n",
        "Cluster #8:\n",
        "blue color swimwear graphic furniture free street water pattern beachwear\n",
        "best:\t4.9181 0.0676 0.0464 0.0260 0.0260 0.0238 0.0208 0.0206 0.0200 0.0191\n",
        "col 1:\t0.0000, 0.0000, 0.0000, 0.0000, 0.0000, 0.0000, 0.0000, 0.0000, 0.0000, 0.0000, 0.0000, 0.0000\n",
        "col 2:\t0.0000, 0.0000, 0.0000, 0.0000, 0.0000, 0.0000, 0.0000, 0.0000, 0.0000, 0.0000, 0.0000, 0.0000\n",
        "col 3:\t0.0000, 0.0000, 0.0000, 0.0000, 0.0000, 0.0000, 4.9181, 0.0000, 0.0000, 0.0000, 0.0000, 0.0000\n",
        "\n",
        "Cluster #9:\n",
        "red etsy 2014 color ring dress shoes sweater beauty menswear\n",
        "best:\t5.5380 0.0976 0.0521 0.0451 0.0338 0.0329 0.0322 0.0299 0.0290 0.0282\n",
        "col 1:\t0.0000, 0.0000, 0.0000, 0.0000, 0.0000, 0.0000, 0.0000, 0.0000, 0.0000, 0.0000, 0.0000, 5.5380\n",
        "col 2:\t0.0000, 0.0000, 0.0000, 0.0000, 0.0000, 0.0000, 0.0000, 0.0000, 0.0000, 0.0000, 0.0000, 0.0000\n",
        "col 3:\t0.0000, 0.0000, 0.0000, 0.0000, 0.0000, 0.0000, 0.0000, 0.0000, 0.0000, 0.0000, 0.0000, 0.0000\n",
        "\n",
        "Cluster #10:\n",
        "blue color dress white brazil car installation etsy glass juanproyect\n",
        "best:\t5.6427 0.1499 0.0952 0.0466 0.0387 0.0296 0.0264 0.0224 0.0218 0.0217\n",
        "col 1:\t0.0000, 0.0000, 0.0000, 0.0000, 0.0000, 0.0000, 0.0000, 0.0000, 0.0000, 0.0000, 0.0000, 0.0000\n",
        "col 2:\t0.0000, 0.0000, 0.0000, 0.0000, 0.0000, 0.0000, 0.0000, 0.0000, 0.0000, 0.0000, 0.0000, 0.0000\n",
        "col 3:\t0.0000, 0.0000, 0.0000, 0.0000, 0.0000, 0.0000, 0.0000, 5.6427, 0.0000, 0.0000, 0.0000, 0.0000\n",
        "\n",
        "Cluster #11:\n",
        "blue color installation colombia etsy porcelain nicolemiller ceramics juanproyect apple\n",
        "best:\t5.2528 0.0956 0.0577 0.0417 0.0309 0.0296 0.0266 0.0228 0.0221 0.0209\n",
        "col 1:\t0.0000, 0.0000, 0.0000, 0.0000, 0.0000, 0.0000, 0.0000, 5.2528, 0.0000, 0.0000, 0.0000, 0.0000\n",
        "col 2:\t0.0000, 0.0000, 0.0000, 0.0000, 0.0000, 0.0000, 0.0000, 0.0000, 0.0000, 0.0000, 0.0000, 0.0000\n",
        "col 3:\t0.0000, 0.0000, 0.0000, 0.0000, 0.0000, 0.0000, 0.0000, 0.0000, 0.0000, 0.0000, 0.0000, 0.0000\n",
        "\n",
        "Cluster #12:\n",
        "green wall ceramics style table yellow urban newyork mirror tech\n",
        "best:\t6.0173 0.0648 0.0384 0.0339 0.0327 0.0281 0.0272 0.0259 0.0248 0.0239\n",
        "col 1:\t0.0000, 0.0000, 0.0000, 0.0000, 0.0000, 0.0000, 0.0000, 0.0000, 0.0000, 0.0000, 0.0000, 0.0000\n",
        "col 2:\t0.0000, 0.0000, 0.0000, 0.0000, 0.0000, 0.0000, 0.0000, 0.0000, 0.0000, 0.0000, 0.0000, 0.0000\n",
        "col 3:\t0.0000, 0.0000, 6.0173, 0.0000, 0.0000, 0.0000, 0.0000, 0.0000, 0.0000, 0.0000, 0.0000, 0.0000\n",
        "\n",
        "Cluster #13:\n",
        "etsy makeup black car clock goth nike tattoo tech japan\n",
        "best:\t5.0164 0.0530 0.0466 0.0436 0.0332 0.0306 0.0270 0.0254 0.0253 0.0221\n",
        "col 1:\t0.0000, 0.0000, 0.0000, 0.0000, 0.0000, 0.0000, 0.0000, 0.0000, 5.0164, 0.0000, 0.0000, 0.0000\n",
        "col 2:\t0.0000, 0.0000, 0.0000, 0.0000, 0.0000, 0.0000, 0.0000, 0.0000, 0.0000, 0.0000, 0.0000, 0.0000\n",
        "col 3:\t0.0000, 0.0000, 0.0000, 0.0000, 0.0000, 0.0000, 0.0000, 0.0000, 0.0000, 0.0000, 0.0000, 0.0000\n",
        "\n",
        "Cluster #14:\n",
        "color red lava makeup clock music pattern shoes 2012 johngalliano\n",
        "best:\t5.9080 0.0811 0.0675 0.0545 0.0418 0.0402 0.0383 0.0341 0.0317 0.0269\n",
        "col 1:\t0.0000, 0.0000, 0.0000, 0.0000, 0.0000, 0.0000, 0.0000, 0.0000, 0.0000, 0.0000, 0.0000, 0.0000\n",
        "col 2:\t0.0000, 0.0000, 0.0000, 0.0000, 0.0000, 0.0000, 0.0000, 0.0000, 0.0000, 0.0000, 0.0000, 0.0000\n",
        "col 3:\t0.0000, 0.0000, 0.0000, 0.0000, 0.0000, 0.0000, 0.0000, 0.0000, 0.0000, 0.0000, 0.0000, 5.9080\n",
        "\n",
        "Cluster #15:\n",
        "blue life future installation women paris yamamay shoes etsy technology\n",
        "best:\t7.3280 0.0702 0.0454 0.0401 0.0371 0.0338 0.0325 0.0303 0.0299 0.0297\n",
        "col 1:\t0.0000, 0.0000, 0.0000, 0.0000, 0.0000, 0.0000, 0.0000, 0.0000, 0.0000, 0.0000, 0.0000, 0.0000\n",
        "col 2:\t0.0000, 0.0000, 0.0000, 0.0000, 0.0000, 0.0000, 7.3280, 0.0000, 0.0000, 0.0000, 0.0000, 0.0000\n",
        "col 3:\t0.0000, 0.0000, 0.0000, 0.0000, 0.0000, 0.0000, 0.0000, 0.0000, 0.0000, 0.0000, 0.0000, 0.0000\n",
        "\n",
        "Cluster #16:\n",
        "red color shoes pink sexy hyperrealistic mouth drawing bag memorialjewelry\n",
        "best:\t7.2541 0.1256 0.0524 0.0499 0.0463 0.0408 0.0382 0.0382 0.0373 0.0318\n",
        "col 1:\t0.0000, 0.0000, 0.0000, 0.0000, 0.0000, 0.0000, 0.0000, 0.0000, 0.0000, 0.0000, 0.0000, 0.0000\n",
        "col 2:\t0.0000, 0.0000, 0.0000, 0.0000, 0.0000, 0.0000, 0.0000, 0.0000, 0.0000, 0.0000, 0.0000, 7.2541\n",
        "col 3:\t0.0000, 0.0000, 0.0000, 0.0000, 0.0000, 0.0000, 0.0000, 0.0000, 0.0000, 0.0000, 0.0000, 0.0000\n",
        "\n",
        "Cluster #17:\n",
        "white blue ceramic tech furniture vase camilo\u00e1lvarez minimalism memory girl\n",
        "best:\t6.1502 0.1000 0.0801 0.0561 0.0535 0.0398 0.0398 0.0336 0.0323 0.0286\n",
        "col 1:\t0.0000, 0.0000, 0.0000, 0.0000, 0.0000, 0.0000, 0.0000, 0.0000, 0.0000, 0.0000, 0.0000, 0.0000\n",
        "col 2:\t0.0000, 0.0000, 0.0000, 0.0000, 0.0000, 0.0000, 0.0000, 0.0000, 0.0000, 0.0000, 0.0000, 0.0000\n",
        "col 3:\t0.0000, 0.0000, 0.0000, 0.0000, 0.0000, 0.0000, 0.0000, 0.0000, 6.1502, 0.0000, 0.0000, 0.0000\n"
       ]
      },
      {
       "output_type": "stream",
       "stream": "stdout",
       "text": [
        "\n",
        "Cluster #18:\n",
        "dress blue black graffiti ceramics purple car porcelain color tech\n",
        "best:\t5.8191 0.0983 0.0626 0.0419 0.0404 0.0338 0.0265 0.0263 0.0251 0.0249\n",
        "col 1:\t0.0000, 0.0000, 0.0000, 0.0000, 0.0000, 0.0000, 0.0000, 0.0000, 0.0000, 0.0000, 0.0000, 0.0000\n",
        "col 2:\t0.0000, 0.0000, 0.0000, 0.0000, 0.0000, 0.0000, 0.0000, 0.0000, 5.8191, 0.0000, 0.0000, 0.0000\n",
        "col 3:\t0.0000, 0.0000, 0.0000, 0.0000, 0.0000, 0.0000, 0.0000, 0.0000, 0.0000, 0.0000, 0.0000, 0.0000\n",
        "\n",
        "Cluster #19:\n",
        "ceramics hair glitch asian menswear vase kylethompson lava mosquito syringe\n",
        "best:\t4.1211 0.0542 0.0430 0.0404 0.0359 0.0332 0.0325 0.0288 0.0264 0.0255\n",
        "col 1:\t0.0000, 0.0000, 0.0000, 0.0000, 0.0000, 0.0000, 0.0000, 0.0000, 0.0000, 0.0000, 4.1211, 0.0000\n",
        "col 2:\t0.0000, 0.0000, 0.0000, 0.0000, 0.0000, 0.0000, 0.0000, 0.0000, 0.0000, 0.0000, 0.0000, 0.0000\n",
        "col 3:\t0.0000, 0.0000, 0.0000, 0.0000, 0.0000, 0.0000, 0.0000, 0.0000, 0.0000, 0.0000, 0.0000, 0.0000\n",
        "\n",
        "Cluster #20:\n",
        "furniture coco 2014 future icecream nyc mirror linacantillo chanel colombia\n",
        "best:\t4.4070 0.0503 0.0429 0.0391 0.0365 0.0361 0.0339 0.0334 0.0287 0.0285\n",
        "col 1:\t0.0000, 0.0000, 0.0000, 0.0000, 0.0000, 0.0000, 0.0000, 0.0000, 0.0000, 0.0000, 0.0000, 0.0000\n",
        "col 2:\t0.0000, 0.0000, 0.0000, 0.0000, 0.0000, 0.0000, 0.0000, 0.0000, 0.0000, 0.0000, 0.0000, 0.0000\n",
        "col 3:\t0.0000, 0.0000, 0.0000, 0.0000, 0.0000, 4.4070, 0.0000, 0.0000, 0.0000, 0.0000, 0.0000, 0.0000\n",
        "\n",
        "Cluster #21:\n",
        "pink shirt women expression boots balls poster colors shoes message\n",
        "best:\t4.7633 0.0580 0.0416 0.0382 0.0364 0.0360 0.0340 0.0323 0.0303 0.0291\n",
        "col 1:\t0.0000, 0.0000, 0.0000, 0.0000, 0.0000, 0.0000, 0.0000, 0.0000, 0.0000, 0.0000, 0.0000, 0.0000\n",
        "col 2:\t0.0000, 0.0000, 0.0000, 0.0000, 0.0000, 0.0000, 0.0000, 0.0000, 0.0000, 0.0000, 0.0000, 0.0000\n",
        "col 3:\t0.0000, 0.0000, 0.0000, 0.0000, 0.0000, 0.0000, 0.0000, 0.0000, 0.0000, 0.0000, 4.7633, 0.0000\n",
        "\n",
        "Cluster #22:\n",
        "pink etsy hippy colors sunglasses man lavin bike style 404\n",
        "best:\t6.8326 0.1447 0.0955 0.0782 0.0679 0.0528 0.0527 0.0517 0.0507 0.0507\n",
        "col 1:\t0.0000, 0.0000, 0.0000, 0.0000, 0.0000, 0.0000, 0.0000, 0.0000, 0.0000, 0.0000, 0.0000, 0.0000\n",
        "col 2:\t0.0000, 0.0000, 0.0000, 0.0000, 0.0000, 0.0000, 0.0000, 0.0000, 0.0000, 0.0000, 6.8326, 0.0000\n",
        "col 3:\t0.0000, 0.0000, 0.0000, 0.0000, 0.0000, 0.0000, 0.0000, 0.0000, 0.0000, 0.0000, 0.0000, 0.0000\n",
        "\n",
        "Cluster #23:\n",
        "green interior realmadrid iphone cover outdoor 2014 paris wallpaper home\n",
        "best:\t5.3200 0.2235 0.0759 0.0739 0.0566 0.0500 0.0478 0.0459 0.0459 0.0428\n",
        "col 1:\t0.0000, 0.0000, 0.0000, 0.0000, 0.0000, 0.0000, 0.0000, 0.0000, 0.0000, 0.0000, 0.0000, 0.0000\n",
        "col 2:\t0.0000, 0.0000, 0.0000, 5.3200, 0.0000, 0.0000, 0.0000, 0.0000, 0.0000, 0.0000, 0.0000, 0.0000\n",
        "col 3:\t0.0000, 0.0000, 0.0000, 0.0000, 0.0000, 0.0000, 0.0000, 0.0000, 0.0000, 0.0000, 0.0000, 0.0000\n",
        "\n",
        "Cluster #24:\n",
        "green portrait collage etsy memorialjewelry wall emerald color colors obsession\n",
        "best:\t4.0308 0.0986 0.0693 0.0508 0.0497 0.0445 0.0350 0.0316 0.0311 0.0303\n",
        "col 1:\t0.0000, 0.0000, 0.0000, 0.0000, 0.0000, 0.0000, 0.0000, 0.0000, 0.0000, 0.0000, 0.0000, 0.0000\n",
        "col 2:\t0.0000, 0.0000, 0.0000, 0.0000, 0.0000, 0.0000, 0.0000, 0.0000, 0.0000, 0.0000, 0.0000, 0.0000\n",
        "col 3:\t0.0000, 0.0000, 0.0000, 0.0000, 4.0308, 0.0000, 0.0000, 0.0000, 0.0000, 0.0000, 0.0000, 0.0000\n",
        "\n",
        "Cluster #25:\n",
        "green reservado etsy italian woodwoolstool vintage wool arquitectura cover knit\n",
        "best:\t4.7559 0.0786 0.0622 0.0619 0.0587 0.0552 0.0477 0.0429 0.0396 0.0342\n",
        "col 1:\t0.0000, 0.0000, 0.0000, 0.0000, 4.7559, 0.0000, 0.0000, 0.0000, 0.0000, 0.0000, 0.0000, 0.0000\n",
        "col 2:\t0.0000, 0.0000, 0.0000, 0.0000, 0.0000, 0.0000, 0.0000, 0.0000, 0.0000, 0.0000, 0.0000, 0.0000\n",
        "col 3:\t0.0000, 0.0000, 0.0000, 0.0000, 0.0000, 0.0000, 0.0000, 0.0000, 0.0000, 0.0000, 0.0000, 0.0000\n",
        "\n",
        "Cluster #26:\n",
        "art porcelain installation painting figurines illustration fusing portrait artist sculpture\n",
        "best:\t5.5920 0.4587 0.3120 0.1558 0.1488 0.0936 0.0820 0.0811 0.0694 0.0691\n",
        "col 1:\t0.0020, 0.0001, 0.0000, 0.0000, 0.0000, 0.0000, 0.0000, 0.0000, 0.0000, 0.0000, 0.0000, 0.0000\n",
        "col 2:\t0.0010, 0.0009, 0.0000, 0.0000, 0.0000, 0.0000, 0.0000, 0.0000, 0.0000, 0.0000, 0.0000, 0.0000\n",
        "col 3:\t0.0005, 0.0001, 0.0000, 0.0000, 0.0000, 0.0000, 0.0000, 0.0000, 0.0000, 0.0000, 0.0000, 0.0000\n",
        "\n",
        "Cluster #27:\n",
        "book iphone green pixel monsters kylethompson surreal nature cacti furniture\n",
        "best:\t5.6470 0.0906 0.0736 0.0663 0.0575 0.0520 0.0497 0.0481 0.0461 0.0456\n",
        "col 1:\t0.0000, 0.0000, 0.0000, 0.0000, 0.0000, 0.0000, 0.0000, 0.0000, 0.0000, 0.0000, 0.0000, 0.0000\n",
        "col 2:\t0.0000, 0.0000, 0.0000, 0.0000, 5.6470, 0.0000, 0.0000, 0.0000, 0.0000, 0.0000, 0.0000, 0.0000\n",
        "col 3:\t0.0000, 0.0000, 0.0000, 0.0000, 0.0000, 0.0000, 0.0000, 0.0000, 0.0000, 0.0000, 0.0000, 0.0000\n",
        "\n",
        "Cluster #28:\n",
        "green style tech zentangle car flowers plants interiors reservado wall\n",
        "best:\t6.4013 0.1684 0.1227 0.0750 0.0684 0.0584 0.0573 0.0565 0.0551 0.0537\n",
        "col 1:\t0.0000, 0.0000, 0.0000, 0.0000, 0.0000, 0.0000, 0.0000, 0.0000, 0.0000, 0.0000, 0.0000, 0.0000\n",
        "col 2:\t0.0000, 0.0000, 0.0000, 0.0000, 0.0000, 0.0000, 0.0000, 0.0000, 0.0000, 0.0000, 0.0000, 0.0000\n",
        "col 3:\t0.0000, 0.0000, 0.0000, 6.4013, 0.0000, 0.0000, 0.0000, 0.0000, 0.0000, 0.0000, 0.0000, 0.0000\n",
        "\n",
        "Cluster #29:\n",
        "green wine basquiat glass ceramics pillowcase fairtradeproducts book look bus\n",
        "best:\t6.4139 0.1600 0.0649 0.0623 0.0617 0.0611 0.0475 0.0474 0.0473 0.0471\n",
        "col 1:\t0.0000, 0.0000, 0.0000, 6.4139, 0.0000, 0.0000, 0.0000, 0.0000, 0.0000, 0.0000, 0.0000, 0.0000\n",
        "col 2:\t0.0000, 0.0000, 0.0000, 0.0000, 0.0000, 0.0000, 0.0000, 0.0000, 0.0000, 0.0000, 0.0000, 0.0000\n",
        "col 3:\t0.0000, 0.0000, 0.0000, 0.0000, 0.0000, 0.0000, 0.0000, 0.0000, 0.0000, 0.0000, 0.0000, 0.0000\n",
        "\n",
        "Cluster #30:\n",
        "etsy green dress app illustration black handmadejewelry portrait painting yagopartal\n",
        "best:\t9.1758 0.3210 0.2140 0.1714 0.1184 0.1066 0.1030 0.0983 0.0857 0.0834\n",
        "col 1:\t0.0000, 0.0000, 0.0000, 0.0000, 0.0000, 9.1758, 0.0000, 0.0000, 0.0000, 0.0000, 0.0000, 0.0000\n",
        "col 2:\t0.0000, 0.0000, 0.0000, 0.0000, 0.0000, 0.0000, 0.0000, 0.0000, 0.0000, 0.0000, 0.0000, 0.0000\n",
        "col 3:\t0.0000, 0.0000, 0.0000, 0.0000, 0.0000, 0.0000, 0.0000, 0.0000, 0.0000, 0.0000, 0.0000, 0.0000\n",
        "\n",
        "Cluster #31:\n",
        "lava typography juanproyect colombia purple edited photocollace patrickdemarchelier followmeto pijama\n",
        "best:\t7.5201 0.1302 0.1013 0.0921 0.0749 0.0687 0.0578 0.0578 0.0561 0.0510\n",
        "col 1:\t0.0000, 0.0000, 0.0000, 0.0000, 0.0000, 0.0000, 0.0000, 0.0000, 0.0000, 0.0000, 0.0000, 0.0000\n",
        "col 2:\t0.0000, 0.0000, 0.0000, 0.0000, 0.0000, 0.0000, 0.0000, 0.0000, 0.0000, 7.5201, 0.0000, 0.0000\n",
        "col 3:\t0.0000, 0.0000, 0.0000, 0.0000, 0.0000, 0.0000, 0.0000, 0.0000, 0.0000, 0.0000, 0.0000, 0.0000\n"
       ]
      },
      {
       "output_type": "stream",
       "stream": "stdout",
       "text": [
        "\n",
        "Cluster #32:\n",
        "green exhibition urban pattern glitch 2014 coco korea look futuristic\n",
        "best:\t8.8316 0.0918 0.0905 0.0832 0.0811 0.0810 0.0732 0.0679 0.0667 0.0656\n",
        "col 1:\t0.0000, 0.0000, 0.0000, 0.0000, 0.0000, 0.0000, 0.0000, 0.0000, 0.0000, 0.0000, 0.0000, 0.0000\n",
        "col 2:\t0.0000, 0.0000, 0.0000, 0.0000, 0.0000, 8.8316, 0.0000, 0.0000, 0.0000, 0.0000, 0.0000, 0.0000\n",
        "col 3:\t0.0000, 0.0000, 0.0000, 0.0000, 0.0000, 0.0000, 0.0000, 0.0000, 0.0000, 0.0000, 0.0000, 0.0000\n",
        "\n",
        "Cluster #33:\n",
        "white purple menswear colors vintage words moda fox typography error\n",
        "best:\t8.9710 0.1790 0.1742 0.1578 0.1207 0.1023 0.0991 0.0984 0.0949 0.0907\n",
        "col 1:\t0.0000, 0.0000, 0.0000, 0.0000, 0.0000, 0.0000, 0.0000, 0.0000, 0.0000, 0.0000, 0.0000, 0.0000\n",
        "col 2:\t0.0000, 0.0000, 0.0000, 0.0000, 0.0000, 0.0000, 0.0000, 0.0000, 0.0000, 0.0000, 0.0000, 0.0000\n",
        "col 3:\t0.0000, 0.0000, 0.0000, 0.0000, 0.0000, 0.0000, 0.0000, 0.0000, 0.0000, 8.9710, 0.0000, 0.0000\n",
        "\n",
        "Cluster #34:\n",
        "purple menswear beachwear dress toronto home place adrianalima boots chair\n",
        "best:\t11.2839 0.4910 0.1859 0.1072 0.0966 0.0955 0.0949 0.0886 0.0875 0.0871\n",
        "col 1:\t0.0000, 0.0000, 0.0000, 0.0000, 0.0000, 0.0000, 0.0000, 0.0000, 0.0000, 11.2839, 0.0000, 0.0000\n",
        "col 2:\t0.0000, 0.0000, 0.0000, 0.0000, 0.0000, 0.0000, 0.0000, 0.0000, 0.0000, 0.0000, 0.0000, 0.0000\n",
        "col 3:\t0.0000, 0.0000, 0.0000, 0.0000, 0.0000, 0.0000, 0.0000, 0.0000, 0.0000, 0.0000, 0.0000, 0.0000\n",
        "\n",
        "Cluster #35:\n",
        "design lamp furniture light chair wood food beauty willhelm packaging\n",
        "best:\t7.8076 1.2706 1.1233 1.0824 0.6833 0.4939 0.4549 0.3719 0.3295 0.3147\n",
        "col 1:\t0.0028, 0.0000, 0.0000, 0.0000, 0.0000, 0.0000, 0.0000, 0.0000, 0.0000, 0.0000, 0.0000, 0.0000\n",
        "col 2:\t0.0015, 0.0015, 0.0000, 0.0000, 0.0000, 0.0000, 0.0000, 0.0000, 0.0000, 0.0000, 0.0000, 0.0000\n",
        "col 3:\t0.0014, 0.0000, 0.0000, 0.0000, 0.0000, 0.0000, 0.0000, 0.0000, 0.0000, 0.0000, 0.0000, 0.0000\n",
        "\n",
        "Cluster #36:\n",
        "ss14 style men safari beachwear colombia street moda linacantillo swimwear\n",
        "best:\t17.1135 8.7276 7.6114 3.8580 3.1384 2.4183 1.9579 1.4313 1.4059 1.3423\n",
        "col 1:\t0.0083, 0.0082, 0.0000, 0.0000, 0.0000, 0.0000, 0.0000, 0.0000, 0.0000, 0.0000, 0.0000, 0.0000\n",
        "col 2:\t0.0059, 0.0079, 0.0000, 0.0000, 0.0000, 0.0000, 0.0000, 0.0000, 0.0000, 0.0000, 0.0000, 0.0000\n",
        "col 3:\t0.0088, 0.0000, 0.0000, 0.0000, 0.0000, 0.0000, 0.0000, 0.0000, 0.0000, 0.0000, 0.0000, 0.0000\n",
        "\n",
        "Cluster #37:\n",
        "sculpture shoes ceramic grotesque highheels silver red geometric attice bike\n",
        "best:\t8.4490 3.8535 3.2267 0.7343 0.6194 0.2666 0.2592 0.2462 0.2421 0.2191\n",
        "col 1:\t0.0000, 0.0040, 0.0000, 0.0000, 0.0000, 0.0000, 0.0000, 0.0000, 0.0000, 0.0000, 0.0000, 0.0000\n",
        "col 2:\t0.0015, 0.0004, 0.0000, 0.0000, 0.0000, 0.0000, 0.0000, 0.0000, 0.0000, 0.0000, 0.0000, 0.0000\n",
        "col 3:\t0.0000, 0.0016, 0.0000, 0.0000, 0.0000, 0.0000, 0.0000, 0.0000, 0.0000, 0.0000, 0.0000, 0.0000\n",
        "\n",
        "Cluster #38:\n",
        "autumnwinter2014-15 ktzautumnwinter2014-15 fashion photography streetart gucci muse dollars hate dropped\n",
        "best:\t6.2659 0.0499 0.0031 0.0031 0.0026 0.0021 0.0019 0.0018 0.0017 0.0017\n",
        "col 1:\t0.0026, 0.0016, 0.0014, 0.0007, 0.0008, 0.0017, 0.0004, 0.0010, 0.0005, 0.0009, 0.0021, 0.0006\n",
        "col 2:\t0.0019, 0.0031, 0.0006, 0.0000, 0.0000, 0.0000, 0.0000, 0.0009, 0.0012, 0.0006, 0.0006, 0.0006\n",
        "col 3:\t0.0031, 0.0011, 0.0004, 0.0018, 0.0000, 0.0015, 0.0006, 0.0017, 0.0011, 0.0000, 0.0000, 0.0015\n",
        "\n",
        "Cluster #39:\n",
        "digitalartdesign art photography \u00e9veliemouila olive conradroset musa muse dollars hate\n",
        "best:\t10.4222 0.0100 0.0057 0.0047 0.0041 0.0037 0.0037 0.0037 0.0031 0.0029\n",
        "col 1:\t0.0029, 0.0028, 0.0005, 0.0015, 0.0000, 0.0017, 0.0047, 0.0012, 0.0028, 0.0000, 0.0010, 0.0041\n",
        "col 2:\t0.0025, 0.0020, 0.0004, 0.0037, 0.0013, 0.0012, 0.0037, 0.0012, 0.0016, 0.0029, 0.0000, 0.0031\n",
        "col 3:\t0.0025, 0.0057, 0.0005, 0.0018, 0.0000, 0.0011, 0.0037, 0.0008, 0.0026, 0.0000, 0.0000, 0.0022\n",
        "\n",
        "Cluster #40:\n",
        "gucci scarpe borsa bikini cravatte 2014 spring boots guilty vogue\n",
        "best:\t11.2510 0.7022 0.4477 0.2659 0.2109 0.1807 0.1742 0.1048 0.1026 0.0653\n",
        "col 1:\t0.0039, 0.0009, 0.0000, 0.0000, 0.0025, 0.0036, 0.0022, 0.0030, 0.0011, 0.0029, 0.0006, 0.0000\n",
        "col 2:\t0.0014, 0.0002, 0.0013, 0.0000, 0.0001, 0.0019, 0.0017, 0.0041, 0.0011, 0.0008, 0.0010, 0.0012\n",
        "col 3:\t0.0035, 0.0004, 0.0000, 0.0000, 0.0000, 0.0019, 0.0000, 0.0069, 0.0000, 0.0026, 0.0000, 0.0010\n",
        "\n",
        "Cluster #41:\n",
        "streetart stencil stencilart nyc banksy brooklyn wall kennyrandom face mural\n",
        "best:\t5.6130 0.4314 0.3763 0.3512 0.3002 0.1910 0.1559 0.1162 0.1076 0.0975\n",
        "col 1:\t0.0020, 0.0016, 0.0000, 0.0001, 0.0003, 0.0000, 0.0013, 0.0008, 0.0000, 0.0006, 0.0000, 0.0010\n",
        "col 2:\t0.0009, 0.0011, 0.0003, 0.0013, 0.0017, 0.0002, 0.0006, 0.0008, 0.0000, 0.0000, 0.0000, 0.0000\n",
        "col 3:\t0.0023, 0.0008, 0.0000, 0.0000, 0.0000, 0.0000, 0.0012, 0.0025, 0.0000, 0.0000, 0.0002, 0.0000\n",
        "\n",
        "Cluster #42:\n",
        "blue color 2014 shirt etsy white yellow newyork handmade water\n",
        "best:\t16.0472 0.2729 0.1789 0.0857 0.0855 0.0797 0.0719 0.0710 0.0694 0.0677\n",
        "col 1:\t0.0000, 0.0000, 0.0000, 0.0000, 0.0000, 0.0000, 16.0472, 0.0000, 0.0000, 0.0000, 0.0000, 0.0000\n",
        "col 2:\t0.0000, 0.0000, 0.0000, 0.0000, 0.0000, 0.0000, 0.0000, 0.0000, 0.0000, 0.0000, 0.0000, 0.0000\n",
        "col 3:\t0.0000, 0.0000, 0.0000, 0.0000, 0.0000, 0.0000, 0.0000, 0.0000, 0.0000, 0.0000, 0.0000, 0.0000\n",
        "\n",
        "Cluster #43:\n",
        "architecture fusing building future zahahadid usa interiors skyscraper michaelwolf density\n",
        "best:\t9.5736 1.0765 0.3383 0.3221 0.2262 0.2255 0.2253 0.2051 0.1927 0.1894\n",
        "col 1:\t0.0026, 0.0054, 0.0000, 0.0000, 0.0000, 0.0000, 0.0043, 0.0027, 0.0000, 0.0000, 0.0000, 0.0000\n",
        "col 2:\t0.0006, 0.0042, 0.0000, 0.0000, 0.0000, 0.0000, 0.0000, 0.0011, 0.0000, 0.0000, 0.0003, 0.0002\n",
        "col 3:\t0.0023, 0.0049, 0.0000, 0.0000, 0.0000, 0.0000, 0.0020, 0.0025, 0.0000, 0.0000, 0.0000, 0.0000\n"
       ]
      },
      {
       "output_type": "stream",
       "stream": "stdout",
       "text": [
        "\n",
        "Cluster #44:\n",
        "photo knitted collage landscape photocollage porn styling knitting photoshop error\n",
        "best:\t7.6839 1.3347 1.1877 0.3107 0.2942 0.2611 0.1950 0.1820 0.1636 0.1599\n",
        "col 1:\t0.0021, 0.0019, 0.0014, 0.0000, 0.0000, 0.0000, 0.0009, 0.0009, 0.0000, 0.0000, 0.0000, 0.0000\n",
        "col 2:\t0.0019, 0.0012, 0.0000, 0.0000, 0.0010, 0.0000, 0.0006, 0.0000, 0.0003, 0.0000, 0.0000, 0.0000\n",
        "col 3:\t0.0023, 0.0026, 0.0008, 0.0000, 0.0000, 0.0000, 0.0016, 0.0019, 0.0000, 0.0000, 0.0000, 0.0000\n",
        "\n",
        "Cluster #45:\n",
        "photography kylethompson makeup muradosmann surrealist bw portrait surreal sofashion models\n",
        "best:\t5.3601 0.2942 0.2789 0.2628 0.1785 0.1783 0.1739 0.1345 0.1170 0.1159\n",
        "col 1:\t0.0018, 0.0000, 0.0000, 0.0000, 0.0000, 0.0000, 0.0000, 0.0000, 0.0000, 0.0000, 0.0000, 0.0000\n",
        "col 2:\t0.0009, 0.0002, 0.0000, 0.0000, 0.0000, 0.0000, 0.0000, 0.0000, 0.0000, 0.0000, 0.0000, 0.0000\n",
        "col 3:\t0.0026, 0.0000, 0.0000, 0.0000, 0.0000, 0.0000, 0.0001, 0.0000, 0.0000, 0.0000, 0.0000, 0.0000\n",
        "\n",
        "Cluster #46:\n",
        "gold white etsy food urban light ceramics necklace poster life\n",
        "best:\t19.1361 0.1504 0.1032 0.0987 0.0859 0.0844 0.0837 0.0687 0.0616 0.0562\n",
        "col 1:\t0.0000, 0.0000, 0.0000, 0.0000, 0.0000, 0.0000, 0.0000, 0.0000, 0.0000, 0.0000, 0.0000, 0.0000\n",
        "col 2:\t0.0000, 0.0000, 0.0000, 0.0000, 0.0000, 0.0000, 0.0000, 0.0000, 0.0000, 0.0000, 0.0000, 0.0000\n",
        "col 3:\t0.0000, 19.1361, 0.0000, 0.0000, 0.0000, 0.0000, 0.0000, 0.0000, 0.0000, 0.0000, 0.0000, 0.0000\n",
        "\n",
        "Cluster #47:\n",
        "fashion menswear colombia willhelm androgynous dress shoes sweater men week\n",
        "best:\t11.4380 0.5540 0.4708 0.3923 0.3642 0.3513 0.3301 0.2977 0.2644 0.2617\n",
        "col 1:\t0.0000, 0.0000, 0.0000, 0.0000, 0.0000, 0.0000, 0.0000, 0.0000, 0.0000, 0.0000, 0.0000, 0.0000\n",
        "col 2:\t0.0000, 0.0000, 0.0000, 0.0000, 0.0000, 0.0000, 0.0000, 0.0000, 0.0000, 0.0000, 0.0000, 0.0000\n",
        "col 3:\t0.0000, 0.0000, 0.0000, 0.0000, 0.0000, 0.0000, 0.0000, 0.0000, 0.0000, 0.0000, 0.0000, 0.0000\n",
        "\n"
       ]
      }
     ],
     "prompt_number": 61
    },
    {
     "cell_type": "code",
     "collapsed": false,
     "input": [
      "# np.savetxt('out/nmf_clusters_48.dat', nmf_fit.components_, delimiter='\\t')"
     ],
     "language": "python",
     "metadata": {},
     "outputs": [],
     "prompt_number": 62
    },
    {
     "cell_type": "markdown",
     "metadata": {},
     "source": [
      "# Image Color Space analysis"
     ]
    },
    {
     "cell_type": "code",
     "collapsed": false,
     "input": [
      "HSLtriplet = np.delete(HSLcolors, 0, axis=1)"
     ],
     "language": "python",
     "metadata": {},
     "outputs": [],
     "prompt_number": 100
    },
    {
     "cell_type": "code",
     "collapsed": false,
     "input": [
      "tmp = HSLtriplet.reshape((HSLtriplet.shape[0], HSLtriplet.shape[1]/3, 3))"
     ],
     "language": "python",
     "metadata": {},
     "outputs": [],
     "prompt_number": 102
    },
    {
     "cell_type": "code",
     "collapsed": false,
     "input": [
      "tmp = tmp.mean(1)"
     ],
     "language": "python",
     "metadata": {},
     "outputs": [],
     "prompt_number": 118
    },
    {
     "cell_type": "code",
     "collapsed": false,
     "input": [
      "H, xedges, yedges = np.histogram2d(tmp[:,0], tmp[:,2])\n",
      "imshow(H, interpolation='nearest', origin='low')"
     ],
     "language": "python",
     "metadata": {},
     "outputs": [
      {
       "metadata": {},
       "output_type": "pyout",
       "prompt_number": 142,
       "text": [
        "<matplotlib.image.AxesImage at 0x7f367c126490>"
       ]
      },
      {
       "metadata": {},
       "output_type": "display_data",
       "png": "[encoded data removed]",
       "text": [
        "<matplotlib.figure.Figure at 0x7f367cc06bd0>"
       ]
      }
     ],
     "prompt_number": 142
    },
    {
     "cell_type": "code",
     "collapsed": false,
     "input": [
      "tmp"
     ],
     "language": "python",
     "metadata": {},
     "outputs": [
      {
       "metadata": {},
       "output_type": "pyout",
       "prompt_number": 139,
       "text": [
        "array([[  1.09213721e+02,   3.00767479e-01,   5.25490196e-01],\n",
        "       [  2.21153846e+01,   2.70655498e-01,   4.54901961e-01],\n",
        "       [  7.81512605e+00,   6.35103408e-02,   4.83660131e-01],\n",
        "       ..., \n",
        "       [  1.60000000e+02,   3.79976383e-02,   5.33986928e-01],\n",
        "       [  8.28571429e+01,   8.33801975e-02,   4.28758170e-01],\n",
        "       [  2.79819820e+01,   2.69984968e-01,   6.08496732e-01]])"
       ]
      }
     ],
     "prompt_number": 139
    },
    {
     "cell_type": "code",
     "collapsed": false,
     "input": [],
     "language": "python",
     "metadata": {},
     "outputs": []
    }
   ],
   "metadata": {}
  }
 ]
}