{
 "metadata": {
  "name": "",
  "signature": "sha256:a5090231e8d0cf4ebadfee694367100bcbff2b96962110949b3ddfa7698705fc"
 },
 "nbformat": 3,
 "nbformat_minor": 0,
 "worksheets": [
  {
   "cells": [
    {
     "cell_type": "code",
     "collapsed": false,
     "input": [
      "import os"
     ],
     "language": "python",
     "metadata": {},
     "outputs": [],
     "prompt_number": 1
    },
    {
     "cell_type": "code",
     "collapsed": false,
     "input": [
      "files = os.listdir('data')"
     ],
     "language": "python",
     "metadata": {},
     "outputs": [],
     "prompt_number": 3
    },
    {
     "cell_type": "code",
     "collapsed": false,
     "input": [
      "hsl_files, rgb_files = files[:9], files[9:]"
     ],
     "language": "python",
     "metadata": {},
     "outputs": [],
     "prompt_number": 12
    },
    {
     "cell_type": "code",
     "collapsed": false,
     "input": [
      "hsl = []\n",
      "rgb = []\n",
      "\n",
      "unique_images = []\n",
      "for fname in hsl_files:\n",
      "    with open('data/'+fname) as f:\n",
      "        for line in f:\n",
      "            prey = map(float, line.strip().split('\\t'))\n",
      "            if prey[0] in unique_images:\n",
      "                continue\n",
      "            hsl.append(prey)\n",
      "            unique_images.append(prey[0])\n",
      "\n",
      "unique_images = []\n",
      "for fname in rgb_files:\n",
      "    with open('data/'+fname) as f:\n",
      "        for line in f:\n",
      "            prey = map(int, line.strip().split('\\t'))\n",
      "            if prey[0] in unique_images:\n",
      "                continue\n",
      "            rgb.append(prey)\n",
      "            unique_images.append(prey[0])"
     ],
     "language": "python",
     "metadata": {},
     "outputs": [],
     "prompt_number": 39
    },
    {
     "cell_type": "code",
     "collapsed": false,
     "input": [
      "np.array(hsl)"
     ],
     "language": "python",
     "metadata": {},
     "outputs": [
      {
       "metadata": {},
       "output_type": "pyout",
       "prompt_number": 40,
       "text": [
        "array([[  1.00173000e+05,   1.57281553e+01,   4.38297872e-01, ...,\n",
        "          4.74251497e+01,   7.99043062e-01,   4.09803922e-01],\n",
        "       [  1.00889000e+05,   4.57142857e+01,   8.78661088e-02, ...,\n",
        "          3.26315789e+01,   4.28571429e-01,   7.39215686e-01],\n",
        "       [  1.00926000e+05,   3.30000000e+02,   4.54545455e-02, ...,\n",
        "          2.40000000e+02,   4.76190476e-02,   9.58823529e-01],\n",
        "       ..., \n",
        "       [  3.57640000e+04,   2.40000000e+01,   4.46428571e-02, ...,\n",
        "          6.00000000e+01,   2.19512195e-01,   8.03921569e-02],\n",
        "       [  2.82030000e+04,   8.57142857e+00,   8.86075949e-02, ...,\n",
        "          0.00000000e+00,   1.25000000e-02,   6.86274510e-01],\n",
        "       [  2.82020000e+04,   2.48571429e+02,   5.78512397e-02, ...,\n",
        "          2.28000000e+02,   4.54545455e-02,   5.68627451e-01]])"
       ]
      }
     ],
     "prompt_number": 40
    },
    {
     "cell_type": "code",
     "collapsed": false,
     "input": [
      "np.savetxt('RGB10colors.txt', np.array(rgb), delimiter='\\t')\n",
      "np.savetxt('HSL10colors.txt', np.array(hsl), delimiter='\\t')"
     ],
     "language": "python",
     "metadata": {},
     "outputs": [],
     "prompt_number": 41
    },
    {
     "cell_type": "code",
     "collapsed": false,
     "input": [],
     "language": "python",
     "metadata": {},
     "outputs": []
    }
   ],
   "metadata": {}
  }
 ]
}