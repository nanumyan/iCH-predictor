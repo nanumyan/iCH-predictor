{
 "metadata": {
  "name": "",
  "signature": "sha256:8178eef875883b83e419c2bab1c97e9ac8b14089af416ce01f09d0a229fe8253"
 },
 "nbformat": 3,
 "nbformat_minor": 0,
 "worksheets": [
  {
   "cells": [
    {
     "cell_type": "code",
     "collapsed": false,
     "input": [
      "import json\n",
      "import os\n",
      "import pprint\n",
      "for filename in os.listdir('jsons'):\n",
      "    print filename"
     ],
     "language": "python",
     "metadata": {},
     "outputs": [
      {
       "output_type": "stream",
       "stream": "stdout",
       "text": [
        "preys.json\n",
        "trendboxed.json\n",
        "users.json\n",
        "votes.json\n"
       ]
      }
     ],
     "prompt_number": 1
    },
    {
     "cell_type": "code",
     "collapsed": false,
     "input": [
      "preys = json.load(open('jsons/preys.json','r'))\n",
      "print 'n preys:', len(preys)\n",
      "\n",
      "feeds = []\n",
      "\n",
      "for prey in preys:\n",
      "    if prey['descr'] and prey['tags'] and prey['link']:\n",
      "        feeds.append(prey)\n",
      "        \n",
      "print len(feeds)"
     ],
     "language": "python",
     "metadata": {},
     "outputs": [
      {
       "output_type": "stream",
       "stream": "stdout",
       "text": [
        "n preys: 108535\n",
        "7639"
       ]
      },
      {
       "output_type": "stream",
       "stream": "stdout",
       "text": [
        "\n"
       ]
      }
     ],
     "prompt_number": 2
    },
    {
     "cell_type": "code",
     "collapsed": false,
     "input": [
      "from itertools import permutations\n",
      "from collections import Counter\n",
      "\n",
      "tag_groups = [feed['tags'] for feed in feeds]\n",
      "\n",
      "tags = [item for sublist in tag_groups for item in sublist]\n",
      "\n",
      "tags_set = []\n",
      "for tag in tags:\n",
      "    if tag not in tags_set:\n",
      "        tags_set.append(tag)"
     ],
     "language": "python",
     "metadata": {},
     "outputs": [],
     "prompt_number": 3
    },
    {
     "cell_type": "code",
     "collapsed": false,
     "input": [
      "tag_map = { tag:n for n, tag in enumerate(tags_set)}\n",
      "tag_map_inv = {v:k for k, v in tag_map.items()}"
     ],
     "language": "python",
     "metadata": {},
     "outputs": [],
     "prompt_number": 78
    },
    {
     "cell_type": "code",
     "collapsed": false,
     "input": [
      "tag_groups_mapped = map(lambda gr: [tag_map[t] for t in gr], tag_groups)"
     ],
     "language": "python",
     "metadata": {},
     "outputs": [],
     "prompt_number": 5
    },
    {
     "cell_type": "code",
     "collapsed": false,
     "input": [
      "tag_perm = map(lambda x: permutations(x, 2), tag_groups_mapped)"
     ],
     "language": "python",
     "metadata": {},
     "outputs": [],
     "prompt_number": 6
    },
    {
     "cell_type": "code",
     "collapsed": false,
     "input": [
      "tag_permutations = []\n",
      "\n",
      "for t in tag_perm:\n",
      "    tag_permutations.extend(list(t))"
     ],
     "language": "python",
     "metadata": {},
     "outputs": [],
     "prompt_number": 7
    },
    {
     "cell_type": "code",
     "collapsed": false,
     "input": [
      "c = Counter(tag_permutations)\n",
      "c.most_common(10)"
     ],
     "language": "python",
     "metadata": {},
     "outputs": [
      {
       "metadata": {},
       "output_type": "pyout",
       "prompt_number": 8,
       "text": [
        "[((0, 113), 102),\n",
        " ((113, 0), 102),\n",
        " ((0, 133), 87),\n",
        " ((150, 16), 87),\n",
        " ((16, 150), 87),\n",
        " ((133, 0), 87),\n",
        " ((429, 113), 69),\n",
        " ((113, 429), 69),\n",
        " ((143, 8), 66),\n",
        " ((8, 143), 66)]"
       ]
      }
     ],
     "prompt_number": 8
    },
    {
     "cell_type": "code",
     "collapsed": false,
     "input": [
      "tag_cooccur_matrix = np.zeros( (len(tag_map), len(tag_map)) )"
     ],
     "language": "python",
     "metadata": {},
     "outputs": [],
     "prompt_number": 9
    },
    {
     "cell_type": "code",
     "collapsed": false,
     "input": [
      "i = 0\n",
      "for k, v in c.iteritems():\n",
      "    tag_cooccur_matrix[k] = v"
     ],
     "language": "python",
     "metadata": {},
     "outputs": [],
     "prompt_number": 10
    },
    {
     "cell_type": "code",
     "collapsed": false,
     "input": [
      "tag_dist_matrix = tag_cooccur_matrix.max() - tag_cooccur_matrix"
     ],
     "language": "python",
     "metadata": {},
     "outputs": [],
     "prompt_number": 15
    },
    {
     "cell_type": "code",
     "collapsed": false,
     "input": [
      "np.fill_diagonal(tag_dist_matrix, 0)"
     ],
     "language": "python",
     "metadata": {},
     "outputs": [],
     "prompt_number": 49
    },
    {
     "cell_type": "code",
     "collapsed": false,
     "input": [
      "from scipy.spatial.distance import squareform\n",
      "tag_dist = squareform(tag_dist_matrix)"
     ],
     "language": "python",
     "metadata": {},
     "outputs": [],
     "prompt_number": 45
    },
    {
     "cell_type": "code",
     "collapsed": false,
     "input": [
      "from scipy.cluster.hierarchy import single"
     ],
     "language": "python",
     "metadata": {},
     "outputs": [],
     "prompt_number": 51
    },
    {
     "cell_type": "code",
     "collapsed": false,
     "input": [
      "tag_linkage = single(tag_dist)"
     ],
     "language": "python",
     "metadata": {},
     "outputs": [],
     "prompt_number": 52
    },
    {
     "cell_type": "code",
     "collapsed": false,
     "input": [
      "np.save('tag_linkage',tag_linkage)"
     ],
     "language": "python",
     "metadata": {},
     "outputs": [],
     "prompt_number": 56
    },
    {
     "cell_type": "code",
     "collapsed": false,
     "input": [
      "from scipy.cluster.hierarchy import leaves_list, to_tree, dendrogram"
     ],
     "language": "python",
     "metadata": {},
     "outputs": [],
     "prompt_number": 66
    },
    {
     "cell_type": "code",
     "collapsed": false,
     "input": [
      "tag_closeness_id = leaves_list(tag_linkage)"
     ],
     "language": "python",
     "metadata": {},
     "outputs": [],
     "prompt_number": 75
    },
    {
     "cell_type": "code",
     "collapsed": false,
     "input": [
      "tag_closeness = []\n",
      "for i in tag_closeness_id[::-1]:\n",
      "    tag_closeness.append(tag_map_inv[i])"
     ],
     "language": "python",
     "metadata": {},
     "outputs": [],
     "prompt_number": 92
    },
    {
     "cell_type": "code",
     "collapsed": false,
     "input": [
      "with open('tag_single_linkage.dat','w') as f:\n",
      "    for i in tag_closeness:\n",
      "        f.write('%s\\n' % i.encode('utf8'))"
     ],
     "language": "python",
     "metadata": {},
     "outputs": [],
     "prompt_number": 98
    },
    {
     "cell_type": "code",
     "collapsed": false,
     "input": [],
     "language": "python",
     "metadata": {},
     "outputs": []
    }
   ],
   "metadata": {}
  }
 ]
}