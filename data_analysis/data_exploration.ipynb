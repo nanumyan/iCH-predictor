{
 "metadata": {
  "name": "",
  "signature": "sha256:e0710ba31dc991a27a65392c4b20f0d7bd4141d614e2f412ff13e46e407a80bb"
 },
 "nbformat": 3,
 "nbformat_minor": 0,
 "worksheets": [
  {
   "cells": [
    {
     "cell_type": "code",
     "collapsed": false,
     "input": [
      "import json\n",
      "import os\n",
      "import pprint\n",
      "for filename in os.listdir('jsons'):\n",
      "    print filename"
     ],
     "language": "python",
     "metadata": {},
     "outputs": [
      {
       "output_type": "stream",
       "stream": "stdout",
       "text": [
        "votes.json\n",
        "users.json\n",
        "trendboxed.json\n",
        "preys.json\n"
       ]
      }
     ],
     "prompt_number": 1
    },
    {
     "cell_type": "code",
     "collapsed": false,
     "input": [
      "preys = json.load(open('jsons/preys.json','r'))\n",
      "print 'n preys:', len(preys)\n",
      "print 'platforms:', {prey['platform'] for prey in preys}"
     ],
     "language": "python",
     "metadata": {},
     "outputs": [
      {
       "output_type": "stream",
       "stream": "stdout",
       "text": [
        "n preys: 108535\n",
        "platforms: "
       ]
      },
      {
       "output_type": "stream",
       "stream": "stdout",
       "text": [
        "set([u'web', u'iPhone'])\n"
       ]
      }
     ],
     "prompt_number": 2
    },
    {
     "cell_type": "code",
     "collapsed": false,
     "input": [
      "feeds = []\n",
      "\n",
      "for prey in preys:\n",
      "    if prey['descr'] and prey['tags'] and prey['link']:\n",
      "        feeds.append(prey)\n",
      "        \n",
      "print len(feeds)"
     ],
     "language": "python",
     "metadata": {},
     "outputs": [
      {
       "output_type": "stream",
       "stream": "stdout",
       "text": [
        "7639\n"
       ]
      }
     ],
     "prompt_number": 7
    },
    {
     "cell_type": "code",
     "collapsed": false,
     "input": [
      "feeds[0]"
     ],
     "language": "python",
     "metadata": {},
     "outputs": [
      {
       "metadata": {},
       "output_type": "pyout",
       "prompt_number": 12,
       "text": [
        "{u'descr': u'Rethinking Vintage: Are the 80\\u2032s and 90\\u2032s fashion vintage?',\n",
        " u'hunterid': 22523,\n",
        " u'id': 128282,\n",
        " u'lat': None,\n",
        " u'link': u'http://www.wendybendoni.com/rethinking-vintage-80s-90s-fashion-vintage/',\n",
        " u'lng': None,\n",
        " u'platform': u'web',\n",
        " u'tags': [u'fashion', u'vintage', u'80s', u'90s']}"
       ]
      }
     ],
     "prompt_number": 12
    },
    {
     "cell_type": "code",
     "collapsed": false,
     "input": [
      "from collections import Counter\n",
      "\n",
      "tags = [feed['tags'] for feed in feeds]"
     ],
     "language": "python",
     "metadata": {},
     "outputs": [],
     "prompt_number": 56
    },
    {
     "cell_type": "code",
     "collapsed": false,
     "input": [
      "tags = [item for sublist in tags for item in sublist]\n",
      "\n",
      "c = Counter(tags)\n",
      "\n",
      "c.most_common(30)"
     ],
     "language": "python",
     "metadata": {},
     "outputs": [
      {
       "metadata": {},
       "output_type": "pyout",
       "prompt_number": 57,
       "text": [
        "[(u'fashion', 947),\n",
        " (u'design', 874),\n",
        " (u'art', 858),\n",
        " (u'photography', 323),\n",
        " (u'etsy', 293),\n",
        " (u'style', 205),\n",
        " (u'white', 195),\n",
        " (u'color', 186),\n",
        " (u'ss14', 159),\n",
        " (u'blue', 157),\n",
        " (u'architecture', 138),\n",
        " (u'SS14', 132),\n",
        " (u'dress', 118),\n",
        " (u'photo', 117),\n",
        " (u'sculpture', 111),\n",
        " (u'shoes', 110),\n",
        " (u'streetart', 106),\n",
        " (u'red', 104),\n",
        " (u'gold', 103),\n",
        " (u'green', 103),\n",
        " (u'black', 102),\n",
        " (u'urban', 101),\n",
        " (u'2014', 100),\n",
        " (u'men', 96),\n",
        " (u'Art', 95),\n",
        " (u'vintage', 93),\n",
        " (u'light', 91),\n",
        " (u'lamp', 89),\n",
        " (u'street', 84),\n",
        " (u'wood', 84)]"
       ]
      }
     ],
     "prompt_number": 57
    },
    {
     "cell_type": "code",
     "collapsed": false,
     "input": [
      "with open('subjsons/preys.json', mode='w') as f:\n",
      "    json.dump(feeds, f)"
     ],
     "language": "python",
     "metadata": {},
     "outputs": [],
     "prompt_number": 34
    },
    {
     "cell_type": "code",
     "collapsed": false,
     "input": [
      "users = json.load(open('jsons/users.json','r'))"
     ],
     "language": "python",
     "metadata": {},
     "outputs": [],
     "prompt_number": 36
    },
    {
     "cell_type": "code",
     "collapsed": false,
     "input": [
      "feeds[0]"
     ],
     "language": "python",
     "metadata": {},
     "outputs": [
      {
       "metadata": {},
       "output_type": "pyout",
       "prompt_number": 38,
       "text": [
        "{u'descr': u'Rethinking Vintage: Are the 80\\u2032s and 90\\u2032s fashion vintage?',\n",
        " u'hunterid': 22523,\n",
        " u'id': 128282,\n",
        " u'lat': None,\n",
        " u'link': u'http://www.wendybendoni.com/rethinking-vintage-80s-90s-fashion-vintage/',\n",
        " u'lng': None,\n",
        " u'platform': u'web',\n",
        " u'tags': [u'fashion', u'vintage', u'80s', u'90s']}"
       ]
      }
     ],
     "prompt_number": 38
    },
    {
     "cell_type": "code",
     "collapsed": false,
     "input": [
      "users[0]"
     ],
     "language": "python",
     "metadata": {},
     "outputs": [
      {
       "metadata": {},
       "output_type": "pyout",
       "prompt_number": 43,
       "text": [
        "{u'id': 7021,\n",
        " u'iso': u'GB',\n",
        " u'level': u'rookie',\n",
        " u'nickname': u'jojo',\n",
        " u'pro': False}"
       ]
      }
     ],
     "prompt_number": 43
    },
    {
     "cell_type": "code",
     "collapsed": false,
     "input": [
      "subusers = []\n",
      "\n",
      "for prey in feeds:\n",
      "    u_id = prey['hunterid']\n",
      "    user = next((x for x in users if x['id'] == u_id), None)\n",
      "    subusers.append(user)  "
     ],
     "language": "python",
     "metadata": {},
     "outputs": [],
     "prompt_number": 47
    },
    {
     "cell_type": "code",
     "collapsed": false,
     "input": [
      "subusers[0]"
     ],
     "language": "python",
     "metadata": {},
     "outputs": [
      {
       "metadata": {},
       "output_type": "pyout",
       "prompt_number": 48,
       "text": [
        "{u'id': 22523,\n",
        " u'iso': u'IT',\n",
        " u'level': u'guru',\n",
        " u'nickname': u'togno2014',\n",
        " u'pro': True}"
       ]
      }
     ],
     "prompt_number": 48
    },
    {
     "cell_type": "code",
     "collapsed": false,
     "input": [
      "len(subusers)"
     ],
     "language": "python",
     "metadata": {},
     "outputs": [
      {
       "metadata": {},
       "output_type": "pyout",
       "prompt_number": 49,
       "text": [
        "7639"
       ]
      }
     ],
     "prompt_number": 49
    },
    {
     "cell_type": "code",
     "collapsed": false,
     "input": [
      "uniqueusers = []\n",
      "\n",
      "for user in subusers:\n",
      "    if user not in uniqueusers:\n",
      "        uniqueusers.append(user)"
     ],
     "language": "python",
     "metadata": {},
     "outputs": [],
     "prompt_number": 50
    },
    {
     "cell_type": "code",
     "collapsed": false,
     "input": [
      "len(uniqueusers)"
     ],
     "language": "python",
     "metadata": {},
     "outputs": [
      {
       "metadata": {},
       "output_type": "pyout",
       "prompt_number": 51,
       "text": [
        "121"
       ]
      }
     ],
     "prompt_number": 51
    },
    {
     "cell_type": "code",
     "collapsed": false,
     "input": [
      "with open('subjsons/users.json', mode='w') as f:\n",
      "    json.dump(uniqueusers, f)"
     ],
     "language": "python",
     "metadata": {},
     "outputs": [],
     "prompt_number": 52
    },
    {
     "cell_type": "code",
     "collapsed": false,
     "input": [
      "votes = json.load(open('jsons/votes.json','r'))\n",
      "len(votes)"
     ],
     "language": "python",
     "metadata": {},
     "outputs": [
      {
       "metadata": {},
       "output_type": "pyout",
       "prompt_number": 53,
       "text": [
        "1259605"
       ]
      }
     ],
     "prompt_number": 53
    },
    {
     "cell_type": "code",
     "collapsed": false,
     "input": [
      "subvotes = []\n",
      "\n",
      "for prey in feeds:\n",
      "    id = prey['id']\n",
      "    vote = next((x for x in votes if x['preyid'] == id), None)\n",
      "    subvotes.append(vote) "
     ],
     "language": "python",
     "metadata": {},
     "outputs": [
      {
       "ename": "KeyboardInterrupt",
       "evalue": "",
       "output_type": "pyerr",
       "traceback": [
        "\u001b[1;31m---------------------------------------------------------------------------\u001b[0m\n\u001b[1;31mKeyboardInterrupt\u001b[0m                         Traceback (most recent call last)",
        "\u001b[1;32m<ipython-input-55-1f0d93fba304>\u001b[0m in \u001b[0;36m<module>\u001b[1;34m()\u001b[0m\n\u001b[0;32m      3\u001b[0m \u001b[1;32mfor\u001b[0m \u001b[0mprey\u001b[0m \u001b[1;32min\u001b[0m \u001b[0mfeeds\u001b[0m\u001b[1;33m:\u001b[0m\u001b[1;33m\u001b[0m\u001b[0m\n\u001b[0;32m      4\u001b[0m     \u001b[0mid\u001b[0m \u001b[1;33m=\u001b[0m \u001b[0mprey\u001b[0m\u001b[1;33m[\u001b[0m\u001b[1;34m'id'\u001b[0m\u001b[1;33m]\u001b[0m\u001b[1;33m\u001b[0m\u001b[0m\n\u001b[1;32m----> 5\u001b[1;33m     \u001b[0mvote\u001b[0m \u001b[1;33m=\u001b[0m \u001b[0mnext\u001b[0m\u001b[1;33m(\u001b[0m\u001b[1;33m(\u001b[0m\u001b[0mx\u001b[0m \u001b[1;32mfor\u001b[0m \u001b[0mx\u001b[0m \u001b[1;32min\u001b[0m \u001b[0mvotes\u001b[0m \u001b[1;32mif\u001b[0m \u001b[0mx\u001b[0m\u001b[1;33m[\u001b[0m\u001b[1;34m'preyid'\u001b[0m\u001b[1;33m]\u001b[0m \u001b[1;33m==\u001b[0m \u001b[0mid\u001b[0m\u001b[1;33m)\u001b[0m\u001b[1;33m,\u001b[0m \u001b[0mNone\u001b[0m\u001b[1;33m)\u001b[0m\u001b[1;33m\u001b[0m\u001b[0m\n\u001b[0m\u001b[0;32m      6\u001b[0m     \u001b[0msubvotes\u001b[0m\u001b[1;33m.\u001b[0m\u001b[0mappend\u001b[0m\u001b[1;33m(\u001b[0m\u001b[0mvote\u001b[0m\u001b[1;33m)\u001b[0m\u001b[1;33m\u001b[0m\u001b[0m\n",
        "\u001b[1;32m<ipython-input-55-1f0d93fba304>\u001b[0m in \u001b[0;36m<genexpr>\u001b[1;34m((x,))\u001b[0m\n\u001b[0;32m      3\u001b[0m \u001b[1;32mfor\u001b[0m \u001b[0mprey\u001b[0m \u001b[1;32min\u001b[0m \u001b[0mfeeds\u001b[0m\u001b[1;33m:\u001b[0m\u001b[1;33m\u001b[0m\u001b[0m\n\u001b[0;32m      4\u001b[0m     \u001b[0mid\u001b[0m \u001b[1;33m=\u001b[0m \u001b[0mprey\u001b[0m\u001b[1;33m[\u001b[0m\u001b[1;34m'id'\u001b[0m\u001b[1;33m]\u001b[0m\u001b[1;33m\u001b[0m\u001b[0m\n\u001b[1;32m----> 5\u001b[1;33m     \u001b[0mvote\u001b[0m \u001b[1;33m=\u001b[0m \u001b[0mnext\u001b[0m\u001b[1;33m(\u001b[0m\u001b[1;33m(\u001b[0m\u001b[0mx\u001b[0m \u001b[1;32mfor\u001b[0m \u001b[0mx\u001b[0m \u001b[1;32min\u001b[0m \u001b[0mvotes\u001b[0m \u001b[1;32mif\u001b[0m \u001b[0mx\u001b[0m\u001b[1;33m[\u001b[0m\u001b[1;34m'preyid'\u001b[0m\u001b[1;33m]\u001b[0m \u001b[1;33m==\u001b[0m \u001b[0mid\u001b[0m\u001b[1;33m)\u001b[0m\u001b[1;33m,\u001b[0m \u001b[0mNone\u001b[0m\u001b[1;33m)\u001b[0m\u001b[1;33m\u001b[0m\u001b[0m\n\u001b[0m\u001b[0;32m      6\u001b[0m     \u001b[0msubvotes\u001b[0m\u001b[1;33m.\u001b[0m\u001b[0mappend\u001b[0m\u001b[1;33m(\u001b[0m\u001b[0mvote\u001b[0m\u001b[1;33m)\u001b[0m\u001b[1;33m\u001b[0m\u001b[0m\n",
        "\u001b[1;31mKeyboardInterrupt\u001b[0m: "
       ]
      }
     ],
     "prompt_number": 55
    },
    {
     "cell_type": "code",
     "collapsed": false,
     "input": [
      "feeds[:5]"
     ],
     "language": "python",
     "metadata": {},
     "outputs": [
      {
       "metadata": {},
       "output_type": "pyout",
       "prompt_number": 59,
       "text": [
        "[{u'descr': u'Rethinking Vintage: Are the 80\\u2032s and 90\\u2032s fashion vintage?',\n",
        "  u'hunterid': 22523,\n",
        "  u'id': 128282,\n",
        "  u'lat': None,\n",
        "  u'link': u'http://www.wendybendoni.com/rethinking-vintage-80s-90s-fashion-vintage/',\n",
        "  u'lng': None,\n",
        "  u'platform': u'web',\n",
        "  u'tags': [u'fashion', u'vintage', u'80s', u'90s']},\n",
        " {u'descr': u'golden mug',\n",
        "  u'hunterid': 22599,\n",
        "  u'id': 119382,\n",
        "  u'lat': None,\n",
        "  u'link': u'http://laurenconrad.com/blog/2013/08/friday-favorites-funny-videos-home-decor-lauren-conrad-august-2013/#',\n",
        "  u'lng': None,\n",
        "  u'platform': u'web',\n",
        "  u'tags': [u'mug', u'golden']},\n",
        " {u'descr': u'Couch surfin',\n",
        "  u'hunterid': 10651,\n",
        "  u'id': 43905,\n",
        "  u'lat': None,\n",
        "  u'link': u'http://www.newyorkshitty.com/',\n",
        "  u'lng': None,\n",
        "  u'platform': u'web',\n",
        "  u'tags': [u'sofa', u'street', u'art', u'nyc']},\n",
        " {u'descr': u'#defacing #deface #advertisement by Vermibus',\n",
        "  u'hunterid': 22201,\n",
        "  u'id': 126329,\n",
        "  u'lat': None,\n",
        "  u'link': u'http://media.vocativ.com/photos/2014/05/Vermibus-Advertising-Graffiti-033161346914.jpg',\n",
        "  u'lng': None,\n",
        "  u'platform': u'web',\n",
        "  u'tags': [u'defacing', u'deface', u'advertisement']},\n",
        " {u'descr': u'Mai Tai\\n',\n",
        "  u'hunterid': 22808,\n",
        "  u'id': 130191,\n",
        "  u'lat': None,\n",
        "  u'link': u'http://dailyscocktails.com/recipes/mai-tai',\n",
        "  u'lng': None,\n",
        "  u'platform': u'web',\n",
        "  u'tags': [u'cocktail', u'MaiTai']}]"
       ]
      }
     ],
     "prompt_number": 59
    }
   ],
   "metadata": {}
  }
 ]
}